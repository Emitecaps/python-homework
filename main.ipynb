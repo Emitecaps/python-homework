{
 "cells": [
  {
   "cell_type": "code",
   "execution_count": 1,
   "id": "7142471f-a7ef-419a-8692-709901a2d8f8",
   "metadata": {},
   "outputs": [
    {
     "ename": "SyntaxError",
     "evalue": "invalid syntax (426398163.py, line 5)",
     "output_type": "error",
     "traceback": [
      "\u001b[0;36m  File \u001b[0;32m\"/var/folders/_s/v5ysmt416g33kd4mwcvm0rk40000gn/T/ipykernel_47471/426398163.py\"\u001b[0;36m, line \u001b[0;32m5\u001b[0m\n\u001b[0;31m    You've made it! It's time to put away the Excel sheet and join the big leagues. Welcome to the world of programming with Python. In this homework assignment, you'll be using the concepts you've learned to complete the required PyBank Python activity, and if you wish to stretch your skills even further, the optional PyRamen Python activity. Both activities present a real-world situation in which your newfound Python skills will come in handy. These activities are far from easy, though, so expect some hard work ahead!\u001b[0m\n\u001b[0m       ^\u001b[0m\n\u001b[0;31mSyntaxError\u001b[0m\u001b[0;31m:\u001b[0m invalid syntax\n"
     ]
    }
   ],
   "source": [
    "# Unit 2 | Homework Assignment: Automate Your Day Job with Python\n",
    "\n",
    "## Background\n",
    "\n",
    "You've made it! It's time to put away the Excel sheet and join the big leagues. Welcome to the world of programming with Python. In this homework assignment, you'll be using the concepts you've learned to complete the required PyBank Python activity, and if you wish to stretch your skills even further, the optional PyRamen Python activity. Both activities present a real-world situation in which your newfound Python skills will come in handy. These activities are far from easy, though, so expect some hard work ahead!\n",
    "\n",
    "## Before You Begin\n",
    "\n",
    "1. Create a new GitHub repo called `python-homework`. Then, clone it to your computer.\n",
    "\n",
    "2. In your local git repository, create a directory for both of the Python activities. Use folder names that correspond to the activities: **PyBank** and **PyRamen**.\n",
    "\n",
    "3. In each folder you just created, add a new file called `main.ipynb`. Remember that to create this file you will need to use JupyterLab to correctly generate the .ipynb file format. This will be the main notebook to run for each analysis.\n",
    "\n",
    "4. Push the above changes to GitHub.\n",
    "\n",
    "## PyBank (Required)\n",
    "\n",
    "![Revenue](Images/revenue-per-lead.jpg)\n",
    "\n",
    "In this activity, you are tasked with creating a Python script for analyzing the financial records of your company. You will be provided with a financial dataset in this file: [budget_data.csv](PyBank/Resources/budget_data.csv). This dataset is composed of two columns, Date and Profit/Losses. (Thankfully, your company has rather lax standards for accounting, so the records are simple.)\n",
    "\n",
    "Your task is to create a Python script that analyzes the records to calculate each of the following:\n",
    "\n",
    "* The total number of months included in the dataset.\n",
    "\n",
    "* The net total amount of Profit/Losses over the entire period.\n",
    "\n",
    "* The average of the changes in Profit/Losses over the entire period.\n",
    "\n",
    "* The greatest increase in profits (date and amount) over the entire period.\n",
    "\n",
    "* The greatest loss (date and amount) over the entire period.\n",
    "\n",
    "Your resulting analysis should look similar to the following:\n",
    "\n",
    "  ```text\n",
    "  Financial Analysis\n",
    "  ----------------------------\n",
    "  Total Months: 86\n",
    "  Total: $38382578\n",
    "  Average  Change: $-2315.12\n",
    "  Greatest Increase in Profits: Feb-2012 ($1926159)\n",
    "  Greatest Decrease in Profits: Sep-2013 ($-2196167)\n",
    "  ```\n",
    "\n",
    "## Resources\n",
    "\n",
    "* [Stack Overflow](https://www.stackoverflow.com): A wealth of community-driven questions and answers, particularly effective for IT solution seekers.\n",
    "\n",
    "* [Python Basics](https://pythonbasics.org/): Contains example materials and exercises for the Python 3 programming language.\n",
    "\n",
    "* [Python Documentation](https://docs.python.org/3/): Official Python documentation\n",
    "\n",
    "---\n",
    "\n",
    "## Hints and Considerations\n",
    "\n",
    "* Consider what we've learned so far. To date, we've learned how to import modules like `csv`; to read and write files in various formats; to store contents in variables, lists, and dictionaries; to iterate through basic data structures; and to debug along the way. Using what we've learned, try to break down you tasks into discrete mini-objectives. This will be a *much* better course of action than attempting to Google search for a miracle.\n",
    "\n",
    "* As you will discover, for some of these activities, the datasets are quite large. This was done purposefully, as it showcases one of the limits of Excel-based analysis. While our first instinct as data analysts is often to head straight to Excel, creating scripts in Python can provide us with more robust options for handling \"big data.\"\n",
    "\n",
    "* Your scripts should work for each dataset provided. Run your script for each dataset separately to make sure that the code works for different data.\n",
    "\n",
    "* Feel encouraged to work in groups, but don't shortchange yourself by copying someone else's work. Dig your heels in, burn the night oil, and learn this while you can! These are skills that will pay dividends in your future career.\n",
    "\n",
    "* **Start early**, and reach out for help often! Challenge yourself to identify _specific_ questions for your instructors and TAs. Don't resign yourself to simply saying, \"I'm totally lost.\" Come prepared to show your effort and thought patterns, we'll be happy to help along the way.\n",
    "\n",
    "* Always commit your work (and do it often!) and back it up with GitHub pushes. You don't want to lose hours of your work because you didn't push it to GitHub every half hour or so.\n",
    "\n",
    "---\n",
    "\n",
    "## Submission\n",
    "\n",
    "* Upload homework files to your GitHub repo.\n",
    "\n",
    "* Submit the link to your GitHub repo on Bootcamp Spot.\n",
    "\n"
   ]
  },
  {
   "cell_type": "code",
   "execution_count": null,
   "id": "0b63ddf5-5fed-4063-b4f5-344f5afc7a24",
   "metadata": {},
   "outputs": [],
   "source": [
    "# Import the pathlib and csv library\n",
    "from pathlib import Path\n",
    "import csv"
   ]
  },
  {
   "cell_type": "code",
   "execution_count": null,
   "id": "63155900-fff1-49e3-b690-907f27950146",
   "metadata": {},
   "outputs": [],
   "source": [
    "# Set the file path\n",
    "csv = Path('budget_data.csv')"
   ]
  },
  {
   "cell_type": "code",
   "execution_count": null,
   "id": "aa7e0b63-1f97-4bef-9181-c7edfcf9679b",
   "metadata": {},
   "outputs": [],
   "source": [
    "# Open the csv file\n",
    "with open(csvfile) as csvfile:\n",
    "    reader = csv.reader(csvfile)"
   ]
  },
  {
   "cell_type": "code",
   "execution_count": null,
   "id": "26fa9443-c206-407c-b12c-dee891325381",
   "metadata": {},
   "outputs": [],
   "source": [
    "# Initialize the line_num variable\n",
    "line_num = 0"
   ]
  },
  {
   "cell_type": "code",
   "execution_count": null,
   "id": "66de3511-036f-4696-a6c5-5c66c4732dfd",
   "metadata": {},
   "outputs": [],
   "source": [
    "# Initialize temporary metric variables\n",
    "previous_period_profit = 0\n",
    "current_period_profit = 0\n",
    "change = 0\n",
    "total_change = 0"
   ]
  },
  {
   "cell_type": "code",
   "execution_count": null,
   "id": "7dbddf52-6323-4d69-bf78-b675a9c4cedf",
   "metadata": {},
   "outputs": [],
   "source": [
    "# Initialize output metric variables\n",
    "max_profit = 0\n",
    "max_loss = 0\n",
    "avg_change = 0\n",
    "total_profit = 0\n",
    "count_month = 0\n",
    "max_profit_date = None\n",
    "max_loss_date = None"
   ]
  },
  {
   "cell_type": "code",
   "execution_count": null,
   "id": "6ae21abf-951f-4f57-9d29-fd919a2a4cba",
   "metadata": {},
   "outputs": [],
   "source": [
    "# Open the input path as a file object\n",
    "with open(csvpath, 'r') as csvfile:"
   ]
  },
  {
   "cell_type": "code",
   "execution_count": null,
   "id": "8c80795e-f096-4246-a9df-20d858b085c5",
   "metadata": {},
   "outputs": [],
   "source": [
    "# Pass in the csv file to the csv.reader\n",
    "csvreader = csv.reader(csvfile, delimiter=',')"
   ]
  },
  {
   "cell_type": "code",
   "execution_count": null,
   "id": "f1f8c9a7-c37d-4da5-b655-9b1b74035b90",
   "metadata": {},
   "outputs": [],
   "source": [
    "# Go to the next row of the file, first row/ header & iterate line_num by 1\n",
    "header = next(csvreader)\n",
    "line_numb += 1"
   ]
  },
  {
   "cell_type": "code",
   "execution_count": null,
   "id": "ce1a892f-6d7b-4e57-8711-d2a3432243a9",
   "metadata": {},
   "outputs": [],
   "source": [
    "# Read each row of data after the header\n",
    "for row in csvreader"
   ]
  },
  {
   "cell_type": "code",
   "execution_count": null,
   "id": "e8c98bc1-2b48-45bd-a9ec-73ddfc3ffe19",
   "metadata": {},
   "outputs": [],
   "source": [
    "# The total number of months included in the dataset\n",
    "count_month += 1"
   ]
  },
  {
   "cell_type": "code",
   "execution_count": null,
   "id": "ff25d5d2-ee74-4206-8c6d-994b7389917a",
   "metadata": {},
   "outputs": [],
   "source": [
    "# The net total amount of Profit/Losses over the entire period\n",
    "total_profit += int(row[1])"
   ]
  },
  {
   "cell_type": "code",
   "execution_count": null,
   "id": "a911ef32-abf8-466c-826e-8dd7c8d90d26",
   "metadata": {},
   "outputs": [],
   "source": [
    "# Change in the current period profit/loss over the previous period\n",
    "previous_period_profit = current_period_profit\n",
    "current_period_profit = int(row[1])"
   ]
  },
  {
   "cell_type": "code",
   "execution_count": null,
   "id": "f3a10d95-c4fb-4df0-86d2-11c9cd036d6b",
   "metadata": {},
   "outputs": [],
   "source": [
    "if count_month == 1:\n",
    "    change = 0\n",
    "else:\n",
    "    change = current_period_profit - previous_period_profit\n",
    "    \n",
    "total_change += change"
   ]
  },
  {
   "cell_type": "code",
   "execution_count": null,
   "id": "24fdf244-bcdb-431d-ba1b-6a3711f4dbeb",
   "metadata": {},
   "outputs": [],
   "source": [
    "# The greatest increase/decrease in profits over the entire period\n",
    "if max_loss == 0\n",
    "    max_loss = change\n",
    "elif change < max_loss:\n",
    "    # Highest decrease in profit\n",
    "    max_loss = change\n",
    "    # Date of highest decrease in profit\n",
    "    max_loss_date = row[0]\n",
    "elif change > max_profit:\n",
    "    # Highest increase in profit\n",
    "    max_profit = change\n",
    "    # Date of highest increase in profit\n",
    "    max_profit_date = row[0]"
   ]
  },
  {
   "cell_type": "code",
   "execution_count": null,
   "id": "8b3dbed1-41cc-4f52-aca2-59eb46ae5eb0",
   "metadata": {},
   "outputs": [],
   "source": [
    "# The average of changes in Profit/Losses over the entire period\n",
    "# count_month-1 because change can't be calculated for the 1st period\n",
    "avg_change = round(total_change/(count_month-1),2)"
   ]
  },
  {
   "cell_type": "code",
   "execution_count": null,
   "id": "49b99d08-b7ad-4193-90f0-f5617a5142bd",
   "metadata": {},
   "outputs": [],
   "source": [
    "# Set outpath path\n",
    "output_path = Path('output.txt')"
   ]
  },
  {
   "cell_type": "code",
   "execution_count": null,
   "id": "2a2376da-a1ca-447a-bf61-43dad46e8e4f",
   "metadata": {},
   "outputs": [],
   "source": [
    "# Open the output path as a file object and write the output in the txtfile\n",
    "\n",
    "with open(output_path, 'w') as txtfile:\n",
    "    print('      Financial Analysis.    ',file=txtfile)\n",
    "    print('-----------------------------',file=txtfile)\n",
    "    print(f'Total Months: {count_month}',file=txtfile)   \n",
    "    print(f'Total: ${total_profit}',file=txtfile) \n",
    "    print(f'Average Changea; ${avg_change}',file=txtfile)    \n",
    "    print(f'Greatest Increase in Profits:{max_profit_date} (${max_profit})',file=txtfile)  \n",
    "    print(f'Greatest Decrease in Profits:{max_loss_date} (${max_loss})',file=txtfile)  "
   ]
  },
  {
   "cell_type": "code",
   "execution_count": null,
   "id": "21bd19ed-dd0b-4a44-bacf-f3c3858ea6ab",
   "metadata": {},
   "outputs": [],
   "source": [
    "# Printing the output\n",
    "\n",
    "with open(output_path) 'r') as txtfile:\n",
    "    print(txtfile.read())"
   ]
  },
  {
   "cell_type": "code",
   "execution_count": null,
   "id": "29ae14fe-c032-42dc-a5d4-a9dd55524dcf",
   "metadata": {},
   "outputs": [],
   "source": []
  },
  {
   "cell_type": "code",
   "execution_count": null,
   "id": "0de31b2f-d057-4c7a-b9b1-cbf2d9e3321b",
   "metadata": {},
   "outputs": [],
   "source": []
  }
 ],
 "metadata": {
  "kernelspec": {
   "display_name": "Python 3 (ipykernel)",
   "language": "python",
   "name": "python3"
  },
  "language_info": {
   "codemirror_mode": {
    "name": "ipython",
    "version": 3
   },
   "file_extension": ".py",
   "mimetype": "text/x-python",
   "name": "python",
   "nbconvert_exporter": "python",
   "pygments_lexer": "ipython3",
   "version": "3.8.8"
  }
 },
 "nbformat": 4,
 "nbformat_minor": 5
}
