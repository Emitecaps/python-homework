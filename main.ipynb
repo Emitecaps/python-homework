{
 "cells": [
  {
   "cell_type": "markdown",
   "id": "0f8a2a9b-e2b7-412a-a4fc-523a4c00fc3a",
   "metadata": {},
   "source": [
    "# Unit 2 | Homework Assignment: Automate Your Day Job with Python\n",
    "\n",
    "## Background\n",
    "\n",
    "You've made it! It's time to put away the Excel sheet and join the big leagues. Welcome to the world of programming with Python. In this homework assignment, you'll be using the concepts you've learned to complete the required PyBank Python activity, and if you wish to stretch your skills even further, the optional PyRamen Python activity. Both activities present a real-world situation in which your newfound Python skills will come in handy. These activities are far from easy, though, so expect some hard work ahead!\n",
    "\n",
    "## Before You Begin\n",
    "\n",
    "1. Create a new GitHub repo called `python-homework`. Then, clone it to your computer.\n",
    "\n",
    "2. In your local git repository, create a directory for both of the Python activities. Use folder names that correspond to the activities: **PyBank** and **PyRamen**.\n",
    "\n",
    "3. In each folder you just created, add a new file called `main.ipynb`. Remember that to create this file you will need to use JupyterLab to correctly generate the .ipynb file format. This will be the main notebook to run for each analysis.\n",
    "\n",
    "4. Push the above changes to GitHub.\n",
    "\n",
    "## PyBank (Required)\n",
    "\n",
    "![Revenue](Images/revenue-per-lead.jpg)\n",
    "\n",
    "In this activity, you are tasked with creating a Python script for analyzing the financial records of your company. You will be provided with a financial dataset in this file: [budget_data.csv](PyBank/Resources/budget_data.csv). This dataset is composed of two columns, Date and Profit/Losses. (Thankfully, your company has rather lax standards for accounting, so the records are simple.)\n",
    "\n",
    "Your task is to create a Python script that analyzes the records to calculate each of the following:\n",
    "\n",
    "* The total number of months included in the dataset.\n",
    "\n",
    "* The net total amount of Profit/Losses over the entire period.\n",
    "\n",
    "* The average of the changes in Profit/Losses over the entire period.\n",
    "\n",
    "* The greatest increase in profits (date and amount) over the entire period.\n",
    "\n",
    "* The greatest loss (date and amount) over the entire period.\n",
    "\n",
    "Your resulting analysis should look similar to the following:\n",
    "\n",
    "  ```text\n",
    "  Financial Analysis\n",
    "  ----------------------------\n",
    "  Total Months: 86\n",
    "  Total: $38382578\n",
    "  Average  Change: $-2315.12\n",
    "  Greatest Increase in Profits: Feb-2012 ($1926159)\n",
    "  Greatest Decrease in Profits: Sep-2013 ($-2196167)\n",
    "  ```\n",
    "\n",
    "## Resources\n",
    "\n",
    "* [Stack Overflow](https://www.stackoverflow.com): A wealth of community-driven questions and answers, particularly effective for IT solution seekers.\n",
    "\n",
    "* [Python Basics](https://pythonbasics.org/): Contains example materials and exercises for the Python 3 programming language.\n",
    "\n",
    "* [Python Documentation](https://docs.python.org/3/): Official Python documentation\n",
    "\n",
    "---\n",
    "\n",
    "## Hints and Considerations\n",
    "\n",
    "* Consider what we've learned so far. To date, we've learned how to import modules like `csv`; to read and write files in various formats; to store contents in variables, lists, and dictionaries; to iterate through basic data structures; and to debug along the way. Using what we've learned, try to break down you tasks into discrete mini-objectives. This will be a *much* better course of action than attempting to Google search for a miracle.\n",
    "\n",
    "* As you will discover, for some of these activities, the datasets are quite large. This was done purposefully, as it showcases one of the limits of Excel-based analysis. While our first instinct as data analysts is often to head straight to Excel, creating scripts in Python can provide us with more robust options for handling \"big data.\"\n",
    "\n",
    "* Your scripts should work for each dataset provided. Run your script for each dataset separately to make sure that the code works for different data.\n",
    "\n",
    "* Feel encouraged to work in groups, but don't shortchange yourself by copying someone else's work. Dig your heels in, burn the night oil, and learn this while you can! These are skills that will pay dividends in your future career.\n",
    "\n",
    "* **Start early**, and reach out for help often! Challenge yourself to identify _specific_ questions for your instructors and TAs. Don't resign yourself to simply saying, \"I'm totally lost.\" Come prepared to show your effort and thought patterns, we'll be happy to help along the way.\n",
    "\n",
    "* Always commit your work (and do it often!) and back it up with GitHub pushes. You don't want to lose hours of your work because you didn't push it to GitHub every half hour or so.\n",
    "\n",
    "---\n",
    "\n",
    "## Submission\n",
    "\n",
    "* Upload homework files to your GitHub repo.\n",
    "\n",
    "* Submit the link to your GitHub repo on Bootcamp Spot.\n",
    "\n"
   ]
  },
  {
   "cell_type": "code",
   "execution_count": 28,
   "id": "0b63ddf5-5fed-4063-b4f5-344f5afc7a24",
   "metadata": {},
   "outputs": [],
   "source": [
    "# Import the pathlib and csv library\n",
    "import os\n",
    "import csv\n",
    "from pathlib import Path"
   ]
  },
  {
   "cell_type": "code",
   "execution_count": 29,
   "id": "63155900-fff1-49e3-b690-907f27950146",
   "metadata": {},
   "outputs": [],
   "source": [
    "# Set the file path\n",
    "budgetpath = Path('budget_data.csv')"
   ]
  },
  {
   "cell_type": "code",
   "execution_count": 30,
   "id": "aa7e0b63-1f97-4bef-9181-c7edfcf9679b",
   "metadata": {},
   "outputs": [],
   "source": [
    "# Open the csv file\n",
    "#with open(file_path) as csvfile:\n",
    "#    csvfile = csv.reader(csvfile, delimiter=\",\")    \n",
    "    \n",
    "   "
   ]
  },
  {
   "cell_type": "code",
   "execution_count": 31,
   "id": "7dbddf52-6323-4d69-bf78-b675a9c4cedf",
   "metadata": {},
   "outputs": [],
   "source": [
    "# Initialize temporary metric variables\n",
    "total_months = 0\n",
    "total_profits = 0\n",
    "average_change = 0\n",
    "max_change = -999999999\n",
    "max_change_month = \"\"\n",
    "min_change = 999999999\n",
    "min_change_month = \"\"\n",
    "prev_profit = 0\n",
    "total_change = 0\n",
    "change = 0"
   ]
  },
  {
   "cell_type": "code",
   "execution_count": 32,
   "id": "6ae21abf-951f-4f57-9d29-fd919a2a4cba",
   "metadata": {},
   "outputs": [
    {
     "name": "stdout",
     "output_type": "stream",
     "text": [
      "['Date', 'Profit/Losses'] <<<<<<<HEADER\n",
      "['Feb-2017', 671099]\n"
     ]
    }
   ],
   "source": [
    "# Open the input path as a file object\n",
    "with open(budgetpath,\"r\") as budgetfile:\n",
    "\n",
    "    csv_reader = csv.reader(budgetfile)\n",
    "    header = next(csv_reader)\n",
    "    print(header, \"<<<<<<<HEADER\")\n",
    "\n",
    "    for row in csv_reader:\n",
    "        total_months += 1\n",
    "        row[1] = int(row[1])\n",
    "        total_profits += row[1]\n",
    "        if total_months != 1:\n",
    "            change = row[1] - prev_profit\n",
    "            total_change += change\n",
    "        if max_change < change:\n",
    "            max_change = change\n",
    "            max_change_month = row[0]\n",
    "            \n",
    "        if  min_change > change:\n",
    "            min_change = change\n",
    "            min_change_month = row[0]\n",
    "            \n",
    "        \n",
    "        prev_profit = row[1]\n",
    "print(row)\n",
    "         "
   ]
  },
  {
   "cell_type": "code",
   "execution_count": 33,
   "id": "f1f8c9a7-c37d-4da5-b655-9b1b74035b90",
   "metadata": {},
   "outputs": [
    {
     "name": "stdout",
     "output_type": "stream",
     "text": [
      "\n",
      "Financial Analysis\n",
      "----------------------------\n",
      "    Total Months: 86\n",
      "    Total: $38,382,578\n",
      "    Average Change: $-2,315.12\n",
      "    Greatest Increase in Profits: Feb-2012 ($1,926,159)\n",
      "    Greatest Decrease in Profits: Sep-2013 ($-2,196,167)\n",
      "\n"
     ]
    }
   ],
   "source": [
    "print(f\"\"\"\n",
    "Financial Analysis\n",
    "----------------------------\n",
    "    Total Months: {total_months}\n",
    "    Total: ${total_profits:,.0f}\n",
    "    Average Change: ${total_change/(total_months-1):,.2f}\n",
    "    Greatest Increase in Profits: {max_change_month} (${max_change:,.0f})\n",
    "    Greatest Decrease in Profits: {min_change_month} (${min_change:,.0f})\n",
    "\"\"\")"
   ]
  }
 ],
 "metadata": {
  "kernelspec": {
   "display_name": "Python 3 (ipykernel)",
   "language": "python",
   "name": "python3"
  },
  "language_info": {
   "codemirror_mode": {
    "name": "ipython",
    "version": 3
   },
   "file_extension": ".py",
   "mimetype": "text/x-python",
   "name": "python",
   "nbconvert_exporter": "python",
   "pygments_lexer": "ipython3",
   "version": "3.8.8"
  }
 },
 "nbformat": 4,
 "nbformat_minor": 5
}
